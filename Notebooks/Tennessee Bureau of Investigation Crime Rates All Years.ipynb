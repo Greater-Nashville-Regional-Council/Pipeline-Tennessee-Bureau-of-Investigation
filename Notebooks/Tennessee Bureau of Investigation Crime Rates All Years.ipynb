{
 "cells": [
  {
   "cell_type": "markdown",
   "id": "7124cf20",
   "metadata": {},
   "source": [
    "###### Imports and Settings"
   ]
  },
  {
   "cell_type": "code",
   "execution_count": 1,
   "id": "d008632f",
   "metadata": {},
   "outputs": [],
   "source": [
    "import pandas as pd\n",
    "import numpy as np\n",
    "import requests\n",
    "from functools import reduce\n",
    "import matplotlib.pyplot as plt\n",
    "import pickle\n",
    "pd.set_option('display.max_columns', None)\n",
    "pd.set_option('display.max_rows', None)\n",
    "pd.set_option('display.width', 150)\n",
    "import sys\n",
    "sys.path.append(\"../../Functions and Dictionaries\") # Adds higher directory to python modules path\n",
    "import geodict\n",
    "tofullcensus = geodict.tofullcensus\n",
    "geotogeoid = geodict.geotogeoid\n",
    "import sqlite3 as sq"
   ]
  },
  {
   "cell_type": "markdown",
   "id": "ef588be8",
   "metadata": {},
   "source": [
    "# This notebook outlines the download and formatting process for data from the Tennessee Bureau of Investigation.  \n",
    "\n",
    "Go to this page: https://crimeinsight.tbi.tn.gov/public/View/dispview.aspx?ReportId=20, \"Crime Rates by Jurisdiction\" fom this page: https://crimeinsight.tbi.tn.gov/public/Browse/browsetables.aspx\n",
    "We are looking for Crime Rates by county and the State of Tennessee here. Select \"Jurisdiction by Geography\" on the left-side of the screen, where you are then able to manipulate geographies by level. Select the State, and then deselect the regions, select counties in the GNRC operating area (most in Middle, some in West), and under those counties leave the jurisdictions. Click \"show report\" in the top right-side of the screen, and then download a multi-dimensional csv file. Delete the data headers, rename Jurisdiction by Geography to \"NAME\", make sure that the numbers are not formatted with commas, add a county column to tag the juridictions with a county, leaving the column null for the state and counties, and set the column headers correctly before saving the file as \"TBRCrimeRatesbyJurisdiction_IncidentDate(YYYY).csv.  \n",
    "\n",
    "Next, From the homepage select \"Crime and Clearance by Offense Type\", deselect clearance in the left-side selector. Select \"Jurisdiction by Geography\" and similarly select the State and all Counties and jurisdictions. Download this, format, transpose data so NAME is on the left and you can create a similar county column as before, and save as \n",
    "\n",
    "*Note*: the jurisdictions don't necessarily repond to a place level plan in all cases, but they may and you can toy around here to see if they match the plan or document you're generating data for!\n"
   ]
  },
  {
   "cell_type": "code",
   "execution_count": 66,
   "id": "0778599a",
   "metadata": {},
   "outputs": [
    {
     "data": {
      "text/html": [
       "<div>\n",
       "<style scoped>\n",
       "    .dataframe tbody tr th:only-of-type {\n",
       "        vertical-align: middle;\n",
       "    }\n",
       "\n",
       "    .dataframe tbody tr th {\n",
       "        vertical-align: top;\n",
       "    }\n",
       "\n",
       "    .dataframe thead th {\n",
       "        text-align: right;\n",
       "    }\n",
       "</style>\n",
       "<table border=\"1\" class=\"dataframe\">\n",
       "  <thead>\n",
       "    <tr style=\"text-align: right;\">\n",
       "      <th></th>\n",
       "      <th>NAME</th>\n",
       "      <th>County</th>\n",
       "      <th>Crime Rate (per 1,000)</th>\n",
       "      <th>Estimated Population</th>\n",
       "      <th>Number of Crimes</th>\n",
       "    </tr>\n",
       "  </thead>\n",
       "  <tbody>\n",
       "    <tr>\n",
       "      <th>0</th>\n",
       "      <td>Tennessee</td>\n",
       "      <td>Full</td>\n",
       "      <td>71.69</td>\n",
       "      <td>7149042.0</td>\n",
       "      <td>512485.0</td>\n",
       "    </tr>\n",
       "    <tr>\n",
       "      <th>1</th>\n",
       "      <td>Cheatham</td>\n",
       "      <td>Full</td>\n",
       "      <td>44.98</td>\n",
       "      <td>42245.0</td>\n",
       "      <td>1900.0</td>\n",
       "    </tr>\n",
       "    <tr>\n",
       "      <th>2</th>\n",
       "      <td>Cheatham County Sheriff's Office</td>\n",
       "      <td>Cheatham</td>\n",
       "      <td>NaN</td>\n",
       "      <td>NaN</td>\n",
       "      <td>1284.0</td>\n",
       "    </tr>\n",
       "  </tbody>\n",
       "</table>\n",
       "</div>"
      ],
      "text/plain": [
       "                               NAME    County  Crime Rate (per 1,000)  Estimated Population  Number of Crimes\n",
       "0                         Tennessee      Full                   71.69             7149042.0          512485.0\n",
       "1                          Cheatham      Full                   44.98               42245.0            1900.0\n",
       "2  Cheatham County Sheriff's Office  Cheatham                     NaN                   NaN            1284.0"
      ]
     },
     "execution_count": 66,
     "metadata": {},
     "output_type": "execute_result"
    }
   ],
   "source": [
    "#import and examine data for the most recent year of crime rate now 2023 on 11/25/2024\n",
    "data = pd.read_csv('../Data Downloads/TBI_CrimeRatesbyJurisdiction_IncidentDate2023.csv')\n",
    "data['County'] = data['County'].fillna('Full')\n",
    "data.head(3)"
   ]
  },
  {
   "cell_type": "code",
   "execution_count": 67,
   "id": "c6c97fa1",
   "metadata": {},
   "outputs": [],
   "source": [
    "#create a dictionary to rename the counties to full census names\n",
    "countydict = {'Cheatham': 'Cheatham County, Tennessee', 'Davidson': 'Davidson County, Tennessee', 'Maury': 'Maury County, Tennessee', \n",
    "              'Robertson': 'Robertson County, Tennessee', 'Rutherford': 'Rutherford County, Tennessee', 'Sumner': 'Sumner County, Tennessee', \n",
    "              'Trousdale': 'Trousdale County, Tennessee', 'Williamson': 'Williamson County, Tennessee', 'Wilson': 'Wilson County, Tennessee', \n",
    "              'Dickson': 'Dickson County, Tennessee', 'Houston': 'Houston County, Tennessee', \"Humphreys\": 'Humphreys County, Tennessee',\n",
    "              'Montgomery': 'Montgomery County, Tennessee', 'Stewart': 'Stewart County, Tennessee'}"
   ]
  },
  {
   "cell_type": "code",
   "execution_count": 68,
   "id": "90746c96",
   "metadata": {},
   "outputs": [],
   "source": [
    "data = data.set_index('County').transpose()\n",
    "data = data.rename(columns = countydict)\n",
    "data = data.transpose().reset_index()"
   ]
  },
  {
   "cell_type": "code",
   "execution_count": 69,
   "id": "926f6ae0",
   "metadata": {},
   "outputs": [],
   "source": [
    "aside = data.loc[data['County'] != 'Full']\n",
    "data = data.loc[data['County'] == 'Full'].drop(columns = 'County')"
   ]
  },
  {
   "cell_type": "code",
   "execution_count": 70,
   "id": "67d1a36d",
   "metadata": {},
   "outputs": [
    {
     "data": {
      "text/html": [
       "<div>\n",
       "<style scoped>\n",
       "    .dataframe tbody tr th:only-of-type {\n",
       "        vertical-align: middle;\n",
       "    }\n",
       "\n",
       "    .dataframe tbody tr th {\n",
       "        vertical-align: top;\n",
       "    }\n",
       "\n",
       "    .dataframe thead th {\n",
       "        text-align: right;\n",
       "    }\n",
       "</style>\n",
       "<table border=\"1\" class=\"dataframe\">\n",
       "  <thead>\n",
       "    <tr style=\"text-align: right;\">\n",
       "      <th></th>\n",
       "      <th>County</th>\n",
       "      <th>NAME</th>\n",
       "      <th>Crime Rate (per 1,000)</th>\n",
       "      <th>Estimated Population</th>\n",
       "      <th>Number of Crimes</th>\n",
       "    </tr>\n",
       "  </thead>\n",
       "  <tbody>\n",
       "    <tr>\n",
       "      <th>2</th>\n",
       "      <td>Cheatham County, Tennessee</td>\n",
       "      <td>Cheatham County Sheriff's Office</td>\n",
       "      <td>NaN</td>\n",
       "      <td>NaN</td>\n",
       "      <td>1284.0</td>\n",
       "    </tr>\n",
       "    <tr>\n",
       "      <th>3</th>\n",
       "      <td>Cheatham County, Tennessee</td>\n",
       "      <td>Ashland City Police Department</td>\n",
       "      <td>79.41</td>\n",
       "      <td>5692.0</td>\n",
       "      <td>452.0</td>\n",
       "    </tr>\n",
       "    <tr>\n",
       "      <th>4</th>\n",
       "      <td>Cheatham County, Tennessee</td>\n",
       "      <td>Kingston Springs Police Department</td>\n",
       "      <td>21.81</td>\n",
       "      <td>2751.0</td>\n",
       "      <td>60.0</td>\n",
       "    </tr>\n",
       "    <tr>\n",
       "      <th>5</th>\n",
       "      <td>Cheatham County, Tennessee</td>\n",
       "      <td>Pleasant View Police Department</td>\n",
       "      <td>18.91</td>\n",
       "      <td>5500.0</td>\n",
       "      <td>104.0</td>\n",
       "    </tr>\n",
       "    <tr>\n",
       "      <th>7</th>\n",
       "      <td>Davidson County, Tennessee</td>\n",
       "      <td>Tennessee Alcoholic Beverage Commission</td>\n",
       "      <td>NaN</td>\n",
       "      <td>NaN</td>\n",
       "      <td>26.0</td>\n",
       "    </tr>\n",
       "  </tbody>\n",
       "</table>\n",
       "</div>"
      ],
      "text/plain": [
       "                       County                                     NAME Crime Rate (per 1,000) Estimated Population Number of Crimes\n",
       "2  Cheatham County, Tennessee         Cheatham County Sheriff's Office                    NaN                  NaN           1284.0\n",
       "3  Cheatham County, Tennessee           Ashland City Police Department                  79.41               5692.0            452.0\n",
       "4  Cheatham County, Tennessee       Kingston Springs Police Department                  21.81               2751.0             60.0\n",
       "5  Cheatham County, Tennessee          Pleasant View Police Department                  18.91               5500.0            104.0\n",
       "7  Davidson County, Tennessee  Tennessee Alcoholic Beverage Commission                    NaN                  NaN             26.0"
      ]
     },
     "execution_count": 70,
     "metadata": {},
     "output_type": "execute_result"
    }
   ],
   "source": [
    "aside.head()"
   ]
  },
  {
   "cell_type": "code",
   "execution_count": 71,
   "id": "867be8ad",
   "metadata": {},
   "outputs": [
    {
     "data": {
      "text/html": [
       "<div>\n",
       "<style scoped>\n",
       "    .dataframe tbody tr th:only-of-type {\n",
       "        vertical-align: middle;\n",
       "    }\n",
       "\n",
       "    .dataframe tbody tr th {\n",
       "        vertical-align: top;\n",
       "    }\n",
       "\n",
       "    .dataframe thead th {\n",
       "        text-align: right;\n",
       "    }\n",
       "</style>\n",
       "<table border=\"1\" class=\"dataframe\">\n",
       "  <thead>\n",
       "    <tr style=\"text-align: right;\">\n",
       "      <th></th>\n",
       "      <th>NAME</th>\n",
       "      <th>Crime Rate (per 1,000)</th>\n",
       "      <th>Estimated Population</th>\n",
       "      <th>Number of Crimes</th>\n",
       "    </tr>\n",
       "  </thead>\n",
       "  <tbody>\n",
       "    <tr>\n",
       "      <th>0</th>\n",
       "      <td>Tennessee</td>\n",
       "      <td>71.69</td>\n",
       "      <td>7149042.0</td>\n",
       "      <td>512485.0</td>\n",
       "    </tr>\n",
       "    <tr>\n",
       "      <th>1</th>\n",
       "      <td>Cheatham</td>\n",
       "      <td>44.98</td>\n",
       "      <td>42245.0</td>\n",
       "      <td>1900.0</td>\n",
       "    </tr>\n",
       "    <tr>\n",
       "      <th>6</th>\n",
       "      <td>Davidson</td>\n",
       "      <td>121.82</td>\n",
       "      <td>709720.0</td>\n",
       "      <td>86460.0</td>\n",
       "    </tr>\n",
       "    <tr>\n",
       "      <th>50</th>\n",
       "      <td>Maury</td>\n",
       "      <td>70.53</td>\n",
       "      <td>111628.0</td>\n",
       "      <td>7873.0</td>\n",
       "    </tr>\n",
       "    <tr>\n",
       "      <th>57</th>\n",
       "      <td>Robertson</td>\n",
       "      <td>35.34</td>\n",
       "      <td>78912.0</td>\n",
       "      <td>2789.0</td>\n",
       "    </tr>\n",
       "  </tbody>\n",
       "</table>\n",
       "</div>"
      ],
      "text/plain": [
       "         NAME Crime Rate (per 1,000) Estimated Population Number of Crimes\n",
       "0   Tennessee                  71.69            7149042.0         512485.0\n",
       "1    Cheatham                  44.98              42245.0           1900.0\n",
       "6    Davidson                 121.82             709720.0          86460.0\n",
       "50      Maury                  70.53             111628.0           7873.0\n",
       "57  Robertson                  35.34              78912.0           2789.0"
      ]
     },
     "execution_count": 71,
     "metadata": {},
     "output_type": "execute_result"
    }
   ],
   "source": [
    "data.head()"
   ]
  },
  {
   "cell_type": "code",
   "execution_count": 72,
   "id": "0f5cfad3",
   "metadata": {},
   "outputs": [],
   "source": [
    "#transpose to aggregate regions, then transpose back\n",
    "data = data.set_index('NAME').transpose()\n",
    "data = data.rename(columns = countydict)\n",
    "GNRCCounties = [data['Stewart County, Tennessee'],data['Montgomery County, Tennessee'],\n",
    "                data['Houston County, Tennessee'],data['Humphreys County, Tennessee'],\n",
    "                data['Dickson County, Tennessee'],data['Cheatham County, Tennessee'],\n",
    "                data['Robertson County, Tennessee'],data['Sumner County, Tennessee'],\n",
    "                data['Davidson County, Tennessee'],data['Wilson County, Tennessee'],\n",
    "                data['Trousdale County, Tennessee'],data['Williamson County, Tennessee'],\n",
    "                data['Rutherford County, Tennessee']]\n",
    "data['GNRC'] = sum(GNRCCounties)\n",
    "GNRCCountiesAll = [data['Stewart County, Tennessee'],data['Montgomery County, Tennessee'],\n",
    "                   data['Houston County, Tennessee'],data['Humphreys County, Tennessee'],\n",
    "                   data['Dickson County, Tennessee'],data['Cheatham County, Tennessee'],\n",
    "                   data['Robertson County, Tennessee'],data['Sumner County, Tennessee'],\n",
    "                   data['Davidson County, Tennessee'],data['Wilson County, Tennessee'],\n",
    "                   data['Trousdale County, Tennessee'],data['Williamson County, Tennessee'],\n",
    "                   data['Rutherford County, Tennessee'],data['Maury County, Tennessee']]\n",
    "data['GNRC Region'] = sum(GNRCCountiesAll)\n",
    "MPOCounties = [data['Robertson County, Tennessee'],data['Sumner County, Tennessee'],\n",
    "               data['Davidson County, Tennessee'],data['Wilson County, Tennessee'],\n",
    "               data['Williamson County, Tennessee'],data['Rutherford County, Tennessee'],\n",
    "               data['Maury County, Tennessee']]\n",
    "data['MPO'] = sum(MPOCounties)\n",
    "data = data.transpose().reset_index()"
   ]
  },
  {
   "cell_type": "code",
   "execution_count": 73,
   "id": "e6692573",
   "metadata": {},
   "outputs": [],
   "source": [
    "#make the county column the same as the name for the full counties.. and state whatever\n",
    "data['County'] = data['NAME']"
   ]
  },
  {
   "cell_type": "code",
   "execution_count": 74,
   "id": "aa1608d6",
   "metadata": {},
   "outputs": [],
   "source": [
    "#replace the crime rate per 1,000 population so that it calculates correctly for the regions as well\n",
    "data['Crime Rate (per 1,000)'] = (data['Number of Crimes']/data['Estimated Population']) * 1000"
   ]
  },
  {
   "cell_type": "code",
   "execution_count": 75,
   "id": "c9e0bd73",
   "metadata": {},
   "outputs": [],
   "source": [
    "data = pd.concat([data, aside])"
   ]
  },
  {
   "cell_type": "code",
   "execution_count": 76,
   "id": "97ade29b",
   "metadata": {},
   "outputs": [],
   "source": [
    "data['Year'] = '2023'"
   ]
  },
  {
   "cell_type": "code",
   "execution_count": 77,
   "id": "325473f2",
   "metadata": {},
   "outputs": [
    {
     "data": {
      "text/html": [
       "<div>\n",
       "<style scoped>\n",
       "    .dataframe tbody tr th:only-of-type {\n",
       "        vertical-align: middle;\n",
       "    }\n",
       "\n",
       "    .dataframe tbody tr th {\n",
       "        vertical-align: top;\n",
       "    }\n",
       "\n",
       "    .dataframe thead th {\n",
       "        text-align: right;\n",
       "    }\n",
       "</style>\n",
       "<table border=\"1\" class=\"dataframe\">\n",
       "  <thead>\n",
       "    <tr style=\"text-align: right;\">\n",
       "      <th></th>\n",
       "      <th>NAME</th>\n",
       "      <th>Crime Rate (per 1,000)</th>\n",
       "      <th>Estimated Population</th>\n",
       "      <th>Number of Crimes</th>\n",
       "      <th>County</th>\n",
       "      <th>Year</th>\n",
       "    </tr>\n",
       "  </thead>\n",
       "  <tbody>\n",
       "    <tr>\n",
       "      <th>0</th>\n",
       "      <td>Tennessee</td>\n",
       "      <td>71.685829</td>\n",
       "      <td>7149042.0</td>\n",
       "      <td>512485.0</td>\n",
       "      <td>Tennessee</td>\n",
       "      <td>2023</td>\n",
       "    </tr>\n",
       "    <tr>\n",
       "      <th>1</th>\n",
       "      <td>Cheatham County, Tennessee</td>\n",
       "      <td>44.975737</td>\n",
       "      <td>42245.0</td>\n",
       "      <td>1900.0</td>\n",
       "      <td>Cheatham County, Tennessee</td>\n",
       "      <td>2023</td>\n",
       "    </tr>\n",
       "    <tr>\n",
       "      <th>2</th>\n",
       "      <td>Davidson County, Tennessee</td>\n",
       "      <td>121.822691</td>\n",
       "      <td>709720.0</td>\n",
       "      <td>86460.0</td>\n",
       "      <td>Davidson County, Tennessee</td>\n",
       "      <td>2023</td>\n",
       "    </tr>\n",
       "    <tr>\n",
       "      <th>3</th>\n",
       "      <td>Maury County, Tennessee</td>\n",
       "      <td>70.5289</td>\n",
       "      <td>111628.0</td>\n",
       "      <td>7873.0</td>\n",
       "      <td>Maury County, Tennessee</td>\n",
       "      <td>2023</td>\n",
       "    </tr>\n",
       "    <tr>\n",
       "      <th>4</th>\n",
       "      <td>Robertson County, Tennessee</td>\n",
       "      <td>35.343167</td>\n",
       "      <td>78912.0</td>\n",
       "      <td>2789.0</td>\n",
       "      <td>Robertson County, Tennessee</td>\n",
       "      <td>2023</td>\n",
       "    </tr>\n",
       "  </tbody>\n",
       "</table>\n",
       "</div>"
      ],
      "text/plain": [
       "                          NAME Crime Rate (per 1,000) Estimated Population Number of Crimes                       County  Year\n",
       "0                    Tennessee              71.685829            7149042.0         512485.0                    Tennessee  2023\n",
       "1   Cheatham County, Tennessee              44.975737              42245.0           1900.0   Cheatham County, Tennessee  2023\n",
       "2   Davidson County, Tennessee             121.822691             709720.0          86460.0   Davidson County, Tennessee  2023\n",
       "3      Maury County, Tennessee                70.5289             111628.0           7873.0      Maury County, Tennessee  2023\n",
       "4  Robertson County, Tennessee              35.343167              78912.0           2789.0  Robertson County, Tennessee  2023"
      ]
     },
     "execution_count": 77,
     "metadata": {},
     "output_type": "execute_result"
    }
   ],
   "source": [
    "data.head()"
   ]
  },
  {
   "cell_type": "code",
   "execution_count": 78,
   "id": "0e90d744",
   "metadata": {},
   "outputs": [],
   "source": [
    "data['GEO_ID'] = data['NAME'].map(geotogeoid)\n",
    "data['Source'] = 'Tennessee Bureau of Investigation'"
   ]
  },
  {
   "cell_type": "code",
   "execution_count": 79,
   "id": "61f355f2",
   "metadata": {},
   "outputs": [],
   "source": [
    "cols = ['Crime Rate (per 1,000)', 'Estimated Population', 'Number of Crimes']\n",
    "data[cols] = data[cols].astype(float)"
   ]
  },
  {
   "cell_type": "code",
   "execution_count": 80,
   "id": "3b9ea1f6",
   "metadata": {},
   "outputs": [
    {
     "data": {
      "text/html": [
       "<div>\n",
       "<style scoped>\n",
       "    .dataframe tbody tr th:only-of-type {\n",
       "        vertical-align: middle;\n",
       "    }\n",
       "\n",
       "    .dataframe tbody tr th {\n",
       "        vertical-align: top;\n",
       "    }\n",
       "\n",
       "    .dataframe thead th {\n",
       "        text-align: right;\n",
       "    }\n",
       "</style>\n",
       "<table border=\"1\" class=\"dataframe\">\n",
       "  <thead>\n",
       "    <tr style=\"text-align: right;\">\n",
       "      <th></th>\n",
       "      <th>NAME</th>\n",
       "      <th>Crime Rate (per 1,000)</th>\n",
       "      <th>Estimated Population</th>\n",
       "      <th>Number of Crimes</th>\n",
       "      <th>County</th>\n",
       "      <th>Year</th>\n",
       "      <th>GEO_ID</th>\n",
       "      <th>Source</th>\n",
       "    </tr>\n",
       "  </thead>\n",
       "  <tbody>\n",
       "    <tr>\n",
       "      <th>0</th>\n",
       "      <td>Tennessee</td>\n",
       "      <td>71.685829</td>\n",
       "      <td>7149042.0</td>\n",
       "      <td>512485.0</td>\n",
       "      <td>Tennessee</td>\n",
       "      <td>2023</td>\n",
       "      <td>0400000US47</td>\n",
       "      <td>Tennessee Bureau of Investigation</td>\n",
       "    </tr>\n",
       "    <tr>\n",
       "      <th>1</th>\n",
       "      <td>Cheatham County, Tennessee</td>\n",
       "      <td>44.975737</td>\n",
       "      <td>42245.0</td>\n",
       "      <td>1900.0</td>\n",
       "      <td>Cheatham County, Tennessee</td>\n",
       "      <td>2023</td>\n",
       "      <td>0500000US47021</td>\n",
       "      <td>Tennessee Bureau of Investigation</td>\n",
       "    </tr>\n",
       "    <tr>\n",
       "      <th>2</th>\n",
       "      <td>Davidson County, Tennessee</td>\n",
       "      <td>121.822691</td>\n",
       "      <td>709720.0</td>\n",
       "      <td>86460.0</td>\n",
       "      <td>Davidson County, Tennessee</td>\n",
       "      <td>2023</td>\n",
       "      <td>0500000US47037</td>\n",
       "      <td>Tennessee Bureau of Investigation</td>\n",
       "    </tr>\n",
       "    <tr>\n",
       "      <th>3</th>\n",
       "      <td>Maury County, Tennessee</td>\n",
       "      <td>70.528900</td>\n",
       "      <td>111628.0</td>\n",
       "      <td>7873.0</td>\n",
       "      <td>Maury County, Tennessee</td>\n",
       "      <td>2023</td>\n",
       "      <td>0500000US47119</td>\n",
       "      <td>Tennessee Bureau of Investigation</td>\n",
       "    </tr>\n",
       "    <tr>\n",
       "      <th>4</th>\n",
       "      <td>Robertson County, Tennessee</td>\n",
       "      <td>35.343167</td>\n",
       "      <td>78912.0</td>\n",
       "      <td>2789.0</td>\n",
       "      <td>Robertson County, Tennessee</td>\n",
       "      <td>2023</td>\n",
       "      <td>0500000US47147</td>\n",
       "      <td>Tennessee Bureau of Investigation</td>\n",
       "    </tr>\n",
       "  </tbody>\n",
       "</table>\n",
       "</div>"
      ],
      "text/plain": [
       "                          NAME  Crime Rate (per 1,000)  Estimated Population  Number of Crimes                       County  Year          GEO_ID  \\\n",
       "0                    Tennessee               71.685829             7149042.0          512485.0                    Tennessee  2023     0400000US47   \n",
       "1   Cheatham County, Tennessee               44.975737               42245.0            1900.0   Cheatham County, Tennessee  2023  0500000US47021   \n",
       "2   Davidson County, Tennessee              121.822691              709720.0           86460.0   Davidson County, Tennessee  2023  0500000US47037   \n",
       "3      Maury County, Tennessee               70.528900              111628.0            7873.0      Maury County, Tennessee  2023  0500000US47119   \n",
       "4  Robertson County, Tennessee               35.343167               78912.0            2789.0  Robertson County, Tennessee  2023  0500000US47147   \n",
       "\n",
       "                              Source  \n",
       "0  Tennessee Bureau of Investigation  \n",
       "1  Tennessee Bureau of Investigation  \n",
       "2  Tennessee Bureau of Investigation  \n",
       "3  Tennessee Bureau of Investigation  \n",
       "4  Tennessee Bureau of Investigation  "
      ]
     },
     "execution_count": 80,
     "metadata": {},
     "output_type": "execute_result"
    }
   ],
   "source": [
    "#final check\n",
    "data.head()"
   ]
  },
  {
   "cell_type": "code",
   "execution_count": 81,
   "id": "6377f743",
   "metadata": {},
   "outputs": [
    {
     "name": "stdout",
     "output_type": "stream",
     "text": [
      "<class 'pandas.core.frame.DataFrame'>\n",
      "Index: 141 entries, 0 to 137\n",
      "Data columns (total 8 columns):\n",
      " #   Column                  Non-Null Count  Dtype  \n",
      "---  ------                  --------------  -----  \n",
      " 0   NAME                    141 non-null    object \n",
      " 1   Crime Rate (per 1,000)  74 non-null     float64\n",
      " 2   Estimated Population    80 non-null     float64\n",
      " 3   Number of Crimes        102 non-null    float64\n",
      " 4   County                  141 non-null    object \n",
      " 5   Year                    141 non-null    object \n",
      " 6   GEO_ID                  15 non-null     object \n",
      " 7   Source                  141 non-null    object \n",
      "dtypes: float64(3), object(5)\n",
      "memory usage: 9.9+ KB\n"
     ]
    }
   ],
   "source": [
    "data.info()"
   ]
  },
  {
   "cell_type": "code",
   "execution_count": 83,
   "id": "afe8f800",
   "metadata": {},
   "outputs": [],
   "source": [
    "twentythree = data"
   ]
  },
  {
   "cell_type": "code",
   "execution_count": 84,
   "id": "4bf5d27f",
   "metadata": {},
   "outputs": [
    {
     "data": {
      "text/plain": [
       "141"
      ]
     },
     "execution_count": 84,
     "metadata": {},
     "output_type": "execute_result"
    }
   ],
   "source": [
    "#export to the SQLite database as only the 2022 data\n",
    "conn = sq.connect('../Outputs/TBI.db')\n",
    "twentythree.to_sql('TBI_CrimeRate_2023', conn, if_exists = 'replace', index = False)"
   ]
  },
  {
   "cell_type": "code",
   "execution_count": 85,
   "id": "42c70743",
   "metadata": {},
   "outputs": [
    {
     "data": {
      "text/plain": [
       "15497"
      ]
     },
     "execution_count": 85,
     "metadata": {},
     "output_type": "execute_result"
    }
   ],
   "source": [
    "#concat to the old data to have all crime rates = latest was 2022\n",
    "data = pd.read_csv('../Data Downloads/TBI_CrimeRatesbyJurisdiction_05to22.csv')\n",
    "twentythree = twentythree.drop(columns = ['GEO_ID', 'Source'])\n",
    "data = pd.concat([data, twentythree])\n",
    "conn = sq.connect('../Outputs/TBI.db')\n",
    "data.to_sql('TBI_CrimeRatesbyJurisdiction_05to23', conn, if_exists = 'replace', index = False)"
   ]
  },
  {
   "cell_type": "code",
   "execution_count": null,
   "id": "574fa635",
   "metadata": {},
   "outputs": [],
   "source": []
  }
 ],
 "metadata": {
  "kernelspec": {
   "display_name": "Python 3 (ipykernel)",
   "language": "python",
   "name": "python3"
  },
  "language_info": {
   "codemirror_mode": {
    "name": "ipython",
    "version": 3
   },
   "file_extension": ".py",
   "mimetype": "text/x-python",
   "name": "python",
   "nbconvert_exporter": "python",
   "pygments_lexer": "ipython3",
   "version": "3.11.5"
  }
 },
 "nbformat": 4,
 "nbformat_minor": 5
}
